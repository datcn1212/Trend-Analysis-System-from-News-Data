{
 "cells": [
  {
   "cell_type": "code",
   "execution_count": null,
   "id": "e53d659c",
   "metadata": {},
   "outputs": [],
   "source": [
    "import org.elasticsearch.spark.sql._  \n",
    "from pyspark.sql import SparkSession\n",
    "\n",
    "spark = SparkSession.builder.appName(\"ExtractKeyword\").getOrCreate()"
   ]
  },
  {
   "cell_type": "code",
   "execution_count": null,
   "id": "24d47119",
   "metadata": {},
   "outputs": [],
   "source": [
    "hdfs_path =  \"hdfs://localhost:9000/datcao/test1.parquet\""
   ]
  },
  {
   "cell_type": "code",
   "execution_count": null,
   "id": "c4305473",
   "metadata": {},
   "outputs": [],
   "source": [
    "df1 = spark.read.json(hdfs_path)"
   ]
  },
  {
   "cell_type": "code",
   "execution_count": null,
   "id": "cfd32f48",
   "metadata": {},
   "outputs": [],
   "source": [
    "df1.printSchema()"
   ]
  },
  {
   "cell_type": "code",
   "execution_count": null,
   "id": "808c2924",
   "metadata": {},
   "outputs": [],
   "source": [
    "df1.show(2)"
   ]
  },
  {
   "cell_type": "code",
   "execution_count": null,
   "id": "ef2e4602",
   "metadata": {},
   "outputs": [],
   "source": [
    "df1.select(\"Body\").show(1)"
   ]
  },
  {
   "cell_type": "code",
   "execution_count": null,
   "id": "9e61f195",
   "metadata": {},
   "outputs": [],
   "source": [
    "import os\n",
    "os.environ['PYSPARK_SUBMIT_ARGS'] = '--jars /home/canada/Downloads/elasticsearch-hadoop-7.17.5/dist/elasticsearch-spark-20_2.11-7.17.5.jar pyspark-shell'\n"
   ]
  },
  {
   "cell_type": "code",
   "execution_count": null,
   "id": "796646e2",
   "metadata": {},
   "outputs": [],
   "source": [
    "df1.write.format(\"org.elasticsearch.spark.sql\").option(\"es.resource\", \"test/_doc\").save()"
   ]
  },
  {
   "cell_type": "code",
   "execution_count": null,
   "id": "3f3c4628",
   "metadata": {},
   "outputs": [],
   "source": [
    "import pandas\n",
    "\n",
    "df = df1.toPandas().to_dict()"
   ]
  },
  {
   "cell_type": "code",
   "execution_count": null,
   "id": "41a61ce8",
   "metadata": {},
   "outputs": [],
   "source": [
    "df"
   ]
  },
  {
   "cell_type": "code",
   "execution_count": null,
   "id": "fee68939",
   "metadata": {},
   "outputs": [],
   "source": [
    "!pip install elasticsearch"
   ]
  },
  {
   "cell_type": "code",
   "execution_count": null,
   "id": "a329e45d",
   "metadata": {},
   "outputs": [],
   "source": [
    "from datetime import datetime\n",
    "from elasticsearch import Elasticsearch\n",
    "es = Elasticsearch(\"http://localhost:9202\")\n",
    "for i in range(40):\n",
    "    doc = {\n",
    "        'author': df[\"Author\"][i],\n",
    "        'text': df[\"Body\"][i],\n",
    "        'date': df[\"Date\"][i],\n",
    "        'timestamp': datetime.now(),\n",
    "    }\n",
    "    \n",
    "    index_name = '20230529' + '_idx'\n",
    "    \n",
    "    resp = es.index(index=index_name, id=i, document=doc)"
   ]
  },
  {
   "cell_type": "code",
   "execution_count": 2,
   "id": "58522fea",
   "metadata": {},
   "outputs": [
    {
     "name": "stdout",
     "output_type": "stream",
     "text": [
      "Defaulting to user installation because normal site-packages is not writeable\n",
      "Requirement already satisfied: rake-nltk in /home/canada/.local/lib/python3.10/site-packages (1.0.6)\n",
      "Collecting nltk<4.0.0,>=3.6.2 (from rake-nltk)\n",
      "  Downloading nltk-3.8.1-py3-none-any.whl (1.5 MB)\n",
      "\u001b[2K     \u001b[38;2;114;156;31m━━━━━━━━━━━━━━━━━━━━━━━━━━━━━━━━━━━━━━━━\u001b[0m \u001b[32m1.5/1.5 MB\u001b[0m \u001b[31m4.8 MB/s\u001b[0m eta \u001b[36m0:00:00\u001b[0m[31m4.9 MB/s\u001b[0m eta \u001b[36m0:00:01\u001b[0m0m\n",
      "\u001b[?25hRequirement already satisfied: click in /home/canada/.local/lib/python3.10/site-packages (from nltk<4.0.0,>=3.6.2->rake-nltk) (8.1.6)\n",
      "Requirement already satisfied: joblib in /home/canada/.local/lib/python3.10/site-packages (from nltk<4.0.0,>=3.6.2->rake-nltk) (1.2.0)\n",
      "Requirement already satisfied: regex>=2021.8.3 in /home/canada/.local/lib/python3.10/site-packages (from nltk<4.0.0,>=3.6.2->rake-nltk) (2022.10.31)\n",
      "Requirement already satisfied: tqdm in /home/canada/.local/lib/python3.10/site-packages (from nltk<4.0.0,>=3.6.2->rake-nltk) (4.64.1)\n",
      "Installing collected packages: nltk\n",
      "\u001b[31mERROR: pip's dependency resolver does not currently take into account all the packages that are installed. This behaviour is the source of the following dependency conflicts.\n",
      "sentence-transformers 2.2.2 requires torch>=1.6.0, which is not installed.\n",
      "sentence-transformers 2.2.2 requires torchvision, which is not installed.\n",
      "sentence-transformers 2.2.2 requires transformers<5.0.0,>=4.6.0, which is not installed.\u001b[0m\u001b[31m\n",
      "\u001b[0mSuccessfully installed nltk-3.8.1\n",
      "\n",
      "\u001b[1m[\u001b[0m\u001b[34;49mnotice\u001b[0m\u001b[1;39;49m]\u001b[0m\u001b[39;49m A new release of pip is available: \u001b[0m\u001b[31;49m23.1.2\u001b[0m\u001b[39;49m -> \u001b[0m\u001b[32;49m23.2\u001b[0m\n",
      "\u001b[1m[\u001b[0m\u001b[34;49mnotice\u001b[0m\u001b[1;39;49m]\u001b[0m\u001b[39;49m To update, run: \u001b[0m\u001b[32;49mpython3 -m pip install --upgrade pip\u001b[0m\n"
     ]
    }
   ],
   "source": [
    "!pip install rake-nltk"
   ]
  },
  {
   "cell_type": "code",
   "execution_count": 3,
   "id": "c3a17b68",
   "metadata": {},
   "outputs": [
    {
     "name": "stderr",
     "output_type": "stream",
     "text": [
      "[nltk_data] Downloading package stopwords to /home/canada/nltk_data...\n",
      "[nltk_data]   Package stopwords is already up-to-date!\n",
      "[nltk_data] Downloading package punkt to /home/canada/nltk_data...\n",
      "[nltk_data]   Package punkt is already up-to-date!\n"
     ]
    }
   ],
   "source": [
    "from rake_nltk import Rake\n",
    "import nltk\n",
    "nltk.download('stopwords')\n",
    "nltk.download('punkt')\n",
    "r = Rake()\n",
    "\n",
    "r.extract_keywords_from_text(\"Khoảng 14h, xe 16 chỗ biển Hà Nội chở 7 khách chạy trên quốc lộ 1, khi đến huyện Chi Lăng thì va chạm với xe đầu kéo biển Phú Yên chạy chiều ngược lại. Phụ xe khách 48 tuổi, quê Bắc Giang tử vong tại chỗ. 7 người khác được đưa đi cấp cứu. Do vết thương quá nặng, lái xe khách 53 tuổi, quê Hà Nội tử vong trong bệnh viện. Tại hiện trường, xe khách dạt vào vệ đường, phần đầu bẹp dúm, thân xe bên ghế phụ biến dạng, cửa xe văng ra ngoài. Ở phần đường đối diện, cách khoảng 10 m, đầu xe đầu kéo đâm vào hộ lan. Nhiều mảnh vỡ vương vãi trên mặt đường. Khu vực tai nạn là khúc cua nhỏ, thời điểm tai nạn trời mưa.\")"
   ]
  },
  {
   "cell_type": "code",
   "execution_count": 4,
   "id": "4e124bc2",
   "metadata": {},
   "outputs": [
    {
     "data": {
      "text/plain": [
       "[(330.875,\n",
       "  'khi đến huyện chi lăng thì va chạm với xe đầu kéo biển phú yên chạy chiều ngược lại'),\n",
       " (173.625, 'xe 16 chỗ biển hà nội chở 7 khách chạy trên quốc lộ 1'),\n",
       " (72.625, 'đầu xe đầu kéo đâm vào hộ lan'),\n",
       " (68.5, 'quê hà nội tử vong trong bệnh viện'),\n",
       " (67.0, '7 người khác được đưa đi cấp cứu'),\n",
       " (65.33333333333333, 'nhiều mảnh vỡ vương vãi trên mặt đường'),\n",
       " (62.0, 'khu vực tai nạn là khúc cua nhỏ'),\n",
       " (52.0, 'quê bắc giang tử vong tại chỗ'),\n",
       " (49.625, 'thân xe bên ghế phụ biến dạng'),\n",
       " (41.458333333333336, 'xe khách dạt vào vệ đường'),\n",
       " (38.0, 'thời điểm tai nạn trời mưa'),\n",
       " (32.125, 'phụ xe khách 48 tuổi'),\n",
       " (31.125, 'lái xe khách 53 tuổi'),\n",
       " (28.625, 'cửa xe văng ra ngoài'),\n",
       " (25.833333333333332, 'ở phần đường đối diện'),\n",
       " (22.25, 'phần đầu bẹp dúm'),\n",
       " (16.0, 'vết thương quá nặng'),\n",
       " (11.0, 'tại hiện trường'),\n",
       " (8.5, 'cách khoảng 10'),\n",
       " (4.5, 'khoảng 14h')]"
      ]
     },
     "execution_count": 4,
     "metadata": {},
     "output_type": "execute_result"
    }
   ],
   "source": [
    "r.get_ranked_phrases_with_scores()"
   ]
  },
  {
   "cell_type": "markdown",
   "id": "2383658c",
   "metadata": {},
   "source": [
    "### WordCloud"
   ]
  },
  {
   "cell_type": "code",
   "execution_count": null,
   "id": "5471ee01",
   "metadata": {},
   "outputs": [],
   "source": [
    "def get_stopwords_list(stop_file_path):\n",
    "    \n",
    "    with open(stop_file_path, 'r', encoding=\"utf-8\") as f:\n",
    "        stopwords = f.readlines()\n",
    "        stop_set = set(m.strip() for m in stopwords)\n",
    "        return list(frozenset(stop_set))"
   ]
  },
  {
   "cell_type": "code",
   "execution_count": null,
   "id": "b6a4c7d3",
   "metadata": {},
   "outputs": [],
   "source": [
    "stop_words=get_stopwords_list(\"vn_stopwords.txt\")"
   ]
  },
  {
   "cell_type": "code",
   "execution_count": null,
   "id": "a82b0322",
   "metadata": {},
   "outputs": [],
   "source": [
    "from wordcloud import WordCloud, STOPWORDS\n",
    "import matplotlib.pyplot as plt\n",
    "import pandas as pd\n",
    "\n",
    "df = df1.toPandas()\n",
    "comment_words = ''\n",
    "stopwords = set(get_stopwords_list(\"vn_stopwords.txt\"))\n",
    " \n",
    "# iterate through the csv file\n",
    "for val in df.Body:\n",
    "     \n",
    "    # typecaste each val to string\n",
    "    val = str(val)\n",
    " \n",
    "    # split the value\n",
    "    tokens = val.split()\n",
    "     \n",
    "    # Converts each token into lowercase\n",
    "    for i in range(len(tokens)):\n",
    "        tokens[i] = tokens[i].lower()\n",
    "     \n",
    "    comment_words += \" \".join(tokens)+\" \"\n",
    " \n",
    "wordcloud = WordCloud(width = 800, height = 800,\n",
    "                background_color ='white',\n",
    "                stopwords = stopwords,\n",
    "                min_font_size = 10).generate(comment_words)\n",
    " \n",
    "# plot the WordCloud image                      \n",
    "plt.figure(figsize = (8, 8), facecolor = None)\n",
    "plt.imshow(wordcloud)\n",
    "plt.axis(\"off\")\n",
    "plt.tight_layout(pad = 0)\n",
    " \n",
    "plt.show()"
   ]
  },
  {
   "cell_type": "code",
   "execution_count": null,
   "id": "5baca025",
   "metadata": {},
   "outputs": [],
   "source": []
  }
 ],
 "metadata": {
  "kernelspec": {
   "display_name": "Python 3 (ipykernel)",
   "language": "python",
   "name": "python3"
  },
  "language_info": {
   "codemirror_mode": {
    "name": "ipython",
    "version": 3
   },
   "file_extension": ".py",
   "mimetype": "text/x-python",
   "name": "python",
   "nbconvert_exporter": "python",
   "pygments_lexer": "ipython3",
   "version": "3.10.6"
  }
 },
 "nbformat": 4,
 "nbformat_minor": 5
}
