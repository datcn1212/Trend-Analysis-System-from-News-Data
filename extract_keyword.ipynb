{
 "cells": [
  {
   "cell_type": "code",
   "execution_count": null,
   "id": "e53d659c",
   "metadata": {},
   "outputs": [],
   "source": [
    "import org.elasticsearch.spark.sql._  \n",
    "from pyspark.sql import SparkSession\n",
    "\n",
    "spark = SparkSession.builder.appName(\"ExtractKeyword\").getOrCreate()"
   ]
  },
  {
   "cell_type": "code",
   "execution_count": null,
   "id": "24d47119",
   "metadata": {},
   "outputs": [],
   "source": [
    "hdfs_path =  \"hdfs://localhost:9000/datcao/test1.parquet\""
   ]
  },
  {
   "cell_type": "code",
   "execution_count": null,
   "id": "c4305473",
   "metadata": {},
   "outputs": [],
   "source": [
    "df1 = spark.read.json(hdfs_path)"
   ]
  },
  {
   "cell_type": "code",
   "execution_count": null,
   "id": "cfd32f48",
   "metadata": {},
   "outputs": [],
   "source": [
    "df1.printSchema()"
   ]
  },
  {
   "cell_type": "code",
   "execution_count": null,
   "id": "808c2924",
   "metadata": {},
   "outputs": [],
   "source": [
    "df1.show(2)"
   ]
  },
  {
   "cell_type": "code",
   "execution_count": null,
   "id": "ef2e4602",
   "metadata": {},
   "outputs": [],
   "source": [
    "df1.select(\"Body\").show(1)"
   ]
  },
  {
   "cell_type": "code",
   "execution_count": null,
   "id": "9e61f195",
   "metadata": {},
   "outputs": [],
   "source": [
    "import os\n",
    "os.environ['PYSPARK_SUBMIT_ARGS'] = '--jars /home/canada/Downloads/elasticsearch-hadoop-7.17.5/dist/elasticsearch-spark-20_2.11-7.17.5.jar pyspark-shell'\n"
   ]
  },
  {
   "cell_type": "code",
   "execution_count": null,
   "id": "796646e2",
   "metadata": {},
   "outputs": [],
   "source": [
    "df1.write.format(\"org.elasticsearch.spark.sql\").option(\"es.resource\", \"test/_doc\").save()"
   ]
  },
  {
   "cell_type": "code",
   "execution_count": null,
   "id": "3f3c4628",
   "metadata": {},
   "outputs": [],
   "source": [
    "import pandas\n",
    "\n",
    "df = df1.toPandas().to_dict()"
   ]
  },
  {
   "cell_type": "code",
   "execution_count": null,
   "id": "41a61ce8",
   "metadata": {},
   "outputs": [],
   "source": [
    "df"
   ]
  },
  {
   "cell_type": "code",
   "execution_count": null,
   "id": "fee68939",
   "metadata": {},
   "outputs": [],
   "source": [
    "!pip install elasticsearch"
   ]
  },
  {
   "cell_type": "code",
   "execution_count": null,
   "id": "a329e45d",
   "metadata": {},
   "outputs": [],
   "source": [
    "from datetime import datetime\n",
    "from elasticsearch import Elasticsearch\n",
    "es = Elasticsearch(\"http://localhost:9202\")\n",
    "for i in range(40):\n",
    "    doc = {\n",
    "        'author': df[\"Author\"][i],\n",
    "        'text': df[\"Body\"][i],\n",
    "        'date': df[\"Date\"][i],\n",
    "        'timestamp': datetime.now(),\n",
    "    }\n",
    "    \n",
    "    index_name = '20230529' + '_idx'\n",
    "    \n",
    "    resp = es.index(index=index_name, id=i, document=doc)"
   ]
  },
  {
   "cell_type": "code",
   "execution_count": null,
   "id": "58522fea",
   "metadata": {},
   "outputs": [],
   "source": [
    "!pip install rake-nltk"
   ]
  },
  {
   "cell_type": "code",
   "execution_count": null,
   "id": "c3a17b68",
   "metadata": {},
   "outputs": [],
   "source": [
    "from rake_nltk import Rake\n",
    "import nltk\n",
    "nltk.download('stopwords')\n",
    "nltk.download('punkt')\n",
    "r = Rake()\n",
    "\n",
    "r.extract_keywords_from_text(\"Khoảng 14h, xe 16 chỗ biển Hà Nội chở 7 khách chạy trên quốc lộ 1, khi đến huyện Chi Lăng thì va chạm với xe đầu kéo biển Phú Yên chạy chiều ngược lại. Phụ xe khách 48 tuổi, quê Bắc Giang tử vong tại chỗ. 7 người khác được đưa đi cấp cứu. Do vết thương quá nặng, lái xe khách 53 tuổi, quê Hà Nội tử vong trong bệnh viện. Tại hiện trường, xe khách dạt vào vệ đường, phần đầu bẹp dúm, thân xe bên ghế phụ biến dạng, cửa xe văng ra ngoài. Ở phần đường đối diện, cách khoảng 10 m, đầu xe đầu kéo đâm vào hộ lan. Nhiều mảnh vỡ vương vãi trên mặt đường. Khu vực tai nạn là khúc cua nhỏ, thời điểm tai nạn trời mưa.\")"
   ]
  },
  {
   "cell_type": "code",
   "execution_count": null,
   "id": "4e124bc2",
   "metadata": {},
   "outputs": [],
   "source": [
    "r.get_ranked_phrases_with_scores()"
   ]
  },
  {
   "cell_type": "markdown",
   "id": "2383658c",
   "metadata": {},
   "source": [
    "### WordCloud"
   ]
  },
  {
   "cell_type": "code",
   "execution_count": null,
   "id": "5471ee01",
   "metadata": {},
   "outputs": [],
   "source": [
    "def get_stopwords_list(stop_file_path):\n",
    "    \n",
    "    with open(stop_file_path, 'r', encoding=\"utf-8\") as f:\n",
    "        stopwords = f.readlines()\n",
    "        stop_set = set(m.strip() for m in stopwords)\n",
    "        return list(frozenset(stop_set))"
   ]
  },
  {
   "cell_type": "code",
   "execution_count": null,
   "id": "b6a4c7d3",
   "metadata": {},
   "outputs": [],
   "source": [
    "stop_words=get_stopwords_list(\"vn_stopwords.txt\")"
   ]
  },
  {
   "cell_type": "code",
   "execution_count": null,
   "id": "a82b0322",
   "metadata": {},
   "outputs": [],
   "source": [
    "from wordcloud import WordCloud, STOPWORDS\n",
    "import matplotlib.pyplot as plt\n",
    "import pandas as pd\n",
    "\n",
    "df = df1.toPandas()\n",
    "comment_words = ''\n",
    "stopwords = set(get_stopwords_list(\"vn_stopwords.txt\"))\n",
    " \n",
    "# iterate through the csv file\n",
    "for val in df.Body:\n",
    "     \n",
    "    # typecaste each val to string\n",
    "    val = str(val)\n",
    " \n",
    "    # split the value\n",
    "    tokens = val.split()\n",
    "     \n",
    "    # Converts each token into lowercase\n",
    "    for i in range(len(tokens)):\n",
    "        tokens[i] = tokens[i].lower()\n",
    "     \n",
    "    comment_words += \" \".join(tokens)+\" \"\n",
    " \n",
    "wordcloud = WordCloud(width = 800, height = 800,\n",
    "                background_color ='white',\n",
    "                stopwords = stopwords,\n",
    "                min_font_size = 10).generate(comment_words)\n",
    " \n",
    "# plot the WordCloud image                      \n",
    "plt.figure(figsize = (8, 8), facecolor = None)\n",
    "plt.imshow(wordcloud)\n",
    "plt.axis(\"off\")\n",
    "plt.tight_layout(pad = 0)\n",
    " \n",
    "plt.show()"
   ]
  },
  {
   "cell_type": "code",
   "execution_count": null,
   "id": "5baca025",
   "metadata": {},
   "outputs": [],
   "source": []
  }
 ],
 "metadata": {
  "kernelspec": {
   "display_name": "Python 3 (ipykernel)",
   "language": "python",
   "name": "python3"
  },
  "language_info": {
   "codemirror_mode": {
    "name": "ipython",
    "version": 3
   },
   "file_extension": ".py",
   "mimetype": "text/x-python",
   "name": "python",
   "nbconvert_exporter": "python",
   "pygments_lexer": "ipython3",
   "version": "3.10.6"
  }
 },
 "nbformat": 4,
 "nbformat_minor": 5
}
